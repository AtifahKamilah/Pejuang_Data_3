{
  "nbformat": 4,
  "nbformat_minor": 0,
  "metadata": {
    "colab": {
      "name": "M1P2V1_Operator.ipynb",
      "provenance": [],
      "collapsed_sections": [],
      "authorship_tag": "ABX9TyMQMrlQLCO71xwQw/DRE4Mb",
      "include_colab_link": true
    },
    "kernelspec": {
      "name": "python3",
      "display_name": "Python 3"
    },
    "language_info": {
      "name": "python"
    }
  },
  "cells": [
    {
      "cell_type": "markdown",
      "metadata": {
        "id": "view-in-github",
        "colab_type": "text"
      },
      "source": [
        "<a href=\"https://colab.research.google.com/github/AtifahKamilah/Pejuang_Data_3/blob/main/M1P2V1_Operator.ipynb\" target=\"_parent\"><img src=\"https://colab.research.google.com/assets/colab-badge.svg\" alt=\"Open In Colab\"/></a>"
      ]
    },
    {
      "cell_type": "markdown",
      "metadata": {
        "id": "ARF1aihor9qg"
      },
      "source": [
        "# Operator"
      ]
    },
    {
      "cell_type": "markdown",
      "metadata": {
        "id": "8RNn1P3IsB1K"
      },
      "source": [
        "Operator = simbol-simbol yang dapat digunakan untuk mengubah nilai dari satu variabel dengan melibatkan satu atau lebih variabel dan literal.\n",
        "\n",
        "Tipe tipe operator :\n",
        "\n",
        "1. operator Aritmatika\n",
        "2. operator Assignment\n",
        "3. operator Pembanding\n",
        "4. operator Logika\n",
        "5. operator Membership"
      ]
    },
    {
      "cell_type": "markdown",
      "metadata": {
        "id": "m7v4T_9Hsc_n"
      },
      "source": [
        "# Operator Aritmatika"
      ]
    },
    {
      "cell_type": "markdown",
      "metadata": {
        "id": "WXZ6Vgvdst42"
      },
      "source": [
        "Operator Aritmatika digunakan untuk melakukan operasi matematika yang umum.\n",
        "\n",
        "Macam-macam operator matematika :\n"
      ]
    },
    {
      "cell_type": "markdown",
      "metadata": {
        "id": "jahgHHIhtXJY"
      },
      "source": [
        "\n",
        "\n",
        "```\n",
        "+  = penjumlahan\n",
        "-  = pengurangan\n",
        "*  = perkalian\n",
        "/  = pembagian\n",
        "%  = modulus\n",
        "** = perpangkatan\n",
        "// = pembagian dengan hasil pembulatan flooring\n",
        "```\n",
        "\n"
      ]
    },
    {
      "cell_type": "code",
      "metadata": {
        "colab": {
          "base_uri": "https://localhost:8080/"
        },
        "id": "xUOPJtANsBBb",
        "outputId": "49237b72-c410-47d2-cc3f-219c55819b51"
      },
      "source": [
        "# contoh penggunaan operator aritmatika\n",
        "\n",
        "#Penjumlahan\n",
        "print('Penjumlahan')\n",
        "print(2+2)\n",
        "#Pengurangan\n",
        "print('-'*20)\n",
        "print('Pengurangan')\n",
        "print(2-3)\n",
        "#Perkalian\n",
        "print('-'*20)\n",
        "print('Perkalian')\n",
        "print(2*3)\n",
        "#Pembagian\n",
        "print('-'*20)\n",
        "print('Pembagian')\n",
        "print(2/3)\n",
        "#Modulus\n",
        "print('-'*20)\n",
        "print('Modulus')\n",
        "print(2%3)\n",
        "#Perpangkatan\n",
        "print('-'*20)\n",
        "print('Perpangkatan')\n",
        "print(2**3)\n",
        "#Pembagian Pembulatan Flooring\n",
        "print('-'*20)\n",
        "print('Pembagian Pembulatan Flooring')\n",
        "print(3//2)\n"
      ],
      "execution_count": null,
      "outputs": [
        {
          "output_type": "stream",
          "name": "stdout",
          "text": [
            "Penjumlahan\n",
            "4\n",
            "--------------------\n",
            "Pengurangan\n",
            "-1\n",
            "--------------------\n",
            "Perkalian\n",
            "6\n",
            "--------------------\n",
            "Pembagian\n",
            "0.6666666666666666\n",
            "--------------------\n",
            "Modulus\n",
            "2\n",
            "--------------------\n",
            "Perpangkatan\n",
            "8\n",
            "--------------------\n",
            "Pembagian Pembulatan Flooring\n",
            "1\n"
          ]
        }
      ]
    },
    {
      "cell_type": "markdown",
      "metadata": {
        "id": "GYn95gFcqd-L"
      },
      "source": [
        "LATIHAN OPERATOR 1"
      ]
    },
    {
      "cell_type": "code",
      "metadata": {
        "colab": {
          "base_uri": "https://localhost:8080/"
        },
        "id": "OE6XjB2QqgsH",
        "outputId": "35c1c310-9522-4a1f-8417-81761d9bd9d3"
      },
      "source": [
        "#Penjumlahan\n",
        "print('Penjumlahan')\n",
        "print(8+8)\n",
        "#Pengurangan\n",
        "print('-'*20)\n",
        "print('Pengurangan')\n",
        "print(8-5)\n",
        "#Perkalian\n",
        "print('-'*20)\n",
        "print('Perkalian')\n",
        "print(8*5)\n",
        "#Pembagian\n",
        "print('-'*20)\n",
        "print('Pembagian')\n",
        "print(8/5)\n",
        "#Modulus\n",
        "print('-'*20)\n",
        "print('Modulus')\n",
        "print(8%5)\n",
        "#Perpangkatan\n",
        "print('-'*20)\n",
        "print('Perpangkatan')\n",
        "print(8**5)\n",
        "#Pembagian Pembulatan Flooring\n",
        "print('-'*20)\n",
        "print('Pembagian Pembulatan Flooring')\n",
        "print(8//5)"
      ],
      "execution_count": null,
      "outputs": [
        {
          "output_type": "stream",
          "name": "stdout",
          "text": [
            "Penjumlahan\n",
            "16\n",
            "--------------------\n",
            "Pengurangan\n",
            "3\n",
            "--------------------\n",
            "Perkalian\n",
            "40\n",
            "--------------------\n",
            "Pembagian\n",
            "1.6\n",
            "--------------------\n",
            "Modulus\n",
            "3\n",
            "--------------------\n",
            "Perpangkatan\n",
            "32768\n",
            "--------------------\n",
            "Pembagian Pembulatan Flooring\n",
            "1\n"
          ]
        }
      ]
    },
    {
      "cell_type": "markdown",
      "metadata": {
        "id": "kF_IvuJ9vJLu"
      },
      "source": [
        "# Operator Assignment"
      ]
    },
    {
      "cell_type": "markdown",
      "metadata": {
        "id": "KeL1S2XQvPli"
      },
      "source": [
        "Operator assignment digunakan untuk menyimpan nilai menjadi satu variabel"
      ]
    },
    {
      "cell_type": "markdown",
      "metadata": {
        "id": "tfnXN06evVk_"
      },
      "source": [
        "\n",
        "\n",
        "```\n",
        "=   : contohnya x = 5      -> x = 5\n",
        "+=  : contohnya x = x + 5  -> x += 5\n",
        "-=  : contohnya x = x - 5  -> x -= 5\n",
        "*=  : contohnya x = x * 5  -> x *= 5\n",
        "/=  : contohnya x = x / 5  -> x /= 5\n",
        "%=  : contohnya x = x % 5  -> x %= 5\n",
        "//= : contohnya x = x // 5 -> x //= 5\n",
        "**= : contohnya x = x ** 5 -> x **= 5\n",
        "```\n",
        "\n"
      ]
    },
    {
      "cell_type": "code",
      "metadata": {
        "colab": {
          "base_uri": "https://localhost:8080/"
        },
        "id": "0Dd5j4lnxjSq",
        "outputId": "86b2195f-617a-490e-d0eb-d9d414ccb5cd"
      },
      "source": [
        "# Contoh penggunaan operator Assignment\n",
        "\n",
        "# Penjumlahan\n",
        "print('Penjumlahan')\n",
        "x=5\n",
        "x=x+5\n",
        "print(x)\n",
        "x=5\n",
        "x+=5\n",
        "print(x)\n",
        "print('-'*20)\n",
        "\n",
        "# Pengurangan\n",
        "print('Pengurangan')\n",
        "x=5\n",
        "x=x-5\n",
        "print(x)\n",
        "x=5\n",
        "x-=5\n",
        "print(x)\n",
        "print('-'*20)\n",
        "\n",
        "# Perkalian\n",
        "print('Perkalian')\n",
        "x=5\n",
        "x=x*5\n",
        "print(x)\n",
        "x=5\n",
        "x*=3\n",
        "print(x)\n",
        "print('-'*20)\n",
        "\n",
        "# Modulus\n",
        "print('Modulus')\n",
        "x=5\n",
        "x=x%5\n",
        "print(x)\n",
        "x=5\n",
        "x%=3\n",
        "print(x)\n",
        "print('-'*20)\n",
        "\n",
        "# Pembagian Flooring\n",
        "print('Pembagian Flooring')\n",
        "x=5\n",
        "x=x//5\n",
        "print(x)\n",
        "x=5\n",
        "x//=3\n",
        "print(x)\n",
        "print('-'*20)\n",
        "\n",
        "# Perpangkatan\n",
        "print('Perpangkatan')\n",
        "x=5\n",
        "x=x**5\n",
        "print(x)\n",
        "x=5\n",
        "x**=3\n",
        "print(x)\n",
        "print('-'*20)"
      ],
      "execution_count": null,
      "outputs": [
        {
          "output_type": "stream",
          "name": "stdout",
          "text": [
            "Penjumlahan\n",
            "10\n",
            "10\n",
            "--------------------\n",
            "Pengurangan\n",
            "0\n",
            "0\n",
            "--------------------\n",
            "Perkalian\n",
            "25\n",
            "15\n",
            "--------------------\n",
            "Modulus\n",
            "0\n",
            "2\n",
            "--------------------\n",
            "Pembagian Flooring\n",
            "1\n",
            "1\n",
            "--------------------\n",
            "Perpangkatan\n",
            "3125\n",
            "125\n",
            "--------------------\n"
          ]
        }
      ]
    },
    {
      "cell_type": "markdown",
      "metadata": {
        "id": "ci0gwIn2sv86"
      },
      "source": [
        "LATIHAN OPERATOR 2"
      ]
    },
    {
      "cell_type": "code",
      "metadata": {
        "colab": {
          "base_uri": "https://localhost:8080/"
        },
        "id": "R99i6BRHszDV",
        "outputId": "dc6053ea-dabf-4229-adec-e85fdffb0a36"
      },
      "source": [
        "# Penjumlahan\n",
        "print('Penjumlahan')\n",
        "x=8\n",
        "x=x+8\n",
        "print(x)\n",
        "x=8\n",
        "x+=8\n",
        "print(x)\n",
        "print('-'*20)\n",
        "\n",
        "# Pengurangan\n",
        "print('Pengurangan')\n",
        "x=8\n",
        "x=x-8\n",
        "print(x)\n",
        "x=8\n",
        "x-=8\n",
        "print(x)\n",
        "print('-'*20)\n",
        "\n",
        "# Perkalian\n",
        "print('Perkalian')\n",
        "x=10\n",
        "x=x*10\n",
        "print(x)\n",
        "x=10\n",
        "x*=10\n",
        "print(x)\n",
        "print('-'*20)\n",
        "\n",
        "# Modulus\n",
        "print('Modulus')\n",
        "x=12\n",
        "x=x%12\n",
        "print(x)\n",
        "x=12\n",
        "x%=12\n",
        "print(x)\n",
        "print('-'*20)\n",
        "\n",
        "# Pembagian Flooring\n",
        "print('Pembagian Flooring')\n",
        "x=14\n",
        "x=x//14\n",
        "print(x)\n",
        "x=14\n",
        "x//=14\n",
        "print(x)\n",
        "print('-'*20)\n",
        "\n",
        "# Perpangkatan\n",
        "print('Perpangkatan')\n",
        "x=16\n",
        "x=x**16\n",
        "print(x)\n",
        "x=16\n",
        "x**=8\n",
        "print(x)\n",
        "print('-'*20)"
      ],
      "execution_count": null,
      "outputs": [
        {
          "output_type": "stream",
          "name": "stdout",
          "text": [
            "Penjumlahan\n",
            "16\n",
            "16\n",
            "--------------------\n",
            "Pengurangan\n",
            "0\n",
            "0\n",
            "--------------------\n",
            "Perkalian\n",
            "100\n",
            "100\n",
            "--------------------\n",
            "Modulus\n",
            "0\n",
            "0\n",
            "--------------------\n",
            "Pembagian Flooring\n",
            "1\n",
            "1\n",
            "--------------------\n",
            "Perpangkatan\n",
            "18446744073709551616\n",
            "4294967296\n",
            "--------------------\n"
          ]
        }
      ]
    },
    {
      "cell_type": "markdown",
      "metadata": {
        "id": "wDlQfE6M38Pn"
      },
      "source": [
        "# Operator Pembanding "
      ]
    },
    {
      "cell_type": "markdown",
      "metadata": {
        "id": "72E5sLga3_vX"
      },
      "source": [
        "Operator pembanding digunakan untuk membandingkan 2 nilai atau variabel.\n",
        "\n",
        "macam-macem operator pembanding :"
      ]
    },
    {
      "cell_type": "markdown",
      "metadata": {
        "id": "Rl03eIHM4Mls"
      },
      "source": [
        "\n",
        "\n",
        "```\n",
        "== -> samadengan\n",
        "!= -> tidak samadengan\n",
        ">  -> lebih dari\n",
        "<  -> kurang dari\n",
        ">= -> lebih dari dan samadengan\n",
        "<= -> kurang dari dan samadengan\n",
        "```\n",
        "\n"
      ]
    },
    {
      "cell_type": "code",
      "metadata": {
        "id": "s-GeL-I44hXH",
        "colab": {
          "base_uri": "https://localhost:8080/"
        },
        "outputId": "138cac5d-6a9f-4fcd-926e-0f5bfd2c6f63"
      },
      "source": [
        "# Contoh penggunaan operator pembanding\n",
        "\n",
        "print(2==2)\n",
        "print(2!=2)\n",
        "print(2>2)\n",
        "print(2<2)\n",
        "print(2>=2)\n",
        "print(2<=2)"
      ],
      "execution_count": null,
      "outputs": [
        {
          "output_type": "stream",
          "name": "stdout",
          "text": [
            "True\n",
            "False\n",
            "False\n",
            "False\n",
            "True\n",
            "True\n"
          ]
        }
      ]
    },
    {
      "cell_type": "markdown",
      "metadata": {
        "id": "rWOc8HTV5kx-"
      },
      "source": [
        "LATIHAN OPERATOR 3"
      ]
    },
    {
      "cell_type": "code",
      "metadata": {
        "colab": {
          "base_uri": "https://localhost:8080/"
        },
        "id": "NiJYZonV5o8A",
        "outputId": "183bd02e-6a6d-493f-c080-d95be66d13e8"
      },
      "source": [
        "print(4==4)\n",
        "print(4!=4)\n",
        "print(8>4)\n",
        "print(7<6)\n",
        "print(3>=3)\n",
        "print(8<=8)"
      ],
      "execution_count": null,
      "outputs": [
        {
          "output_type": "stream",
          "name": "stdout",
          "text": [
            "True\n",
            "False\n",
            "True\n",
            "False\n",
            "True\n",
            "True\n"
          ]
        }
      ]
    },
    {
      "cell_type": "markdown",
      "metadata": {
        "id": "F9wkMc2s5B1k"
      },
      "source": [
        "# Operator Logika"
      ]
    },
    {
      "cell_type": "markdown",
      "metadata": {
        "id": "hoLz9grl5FkW"
      },
      "source": [
        "Operator Logika digunakan untuk mengkombinasikan statment-statment kondisional \n",
        "\n",
        "macam-macam operator logika :"
      ]
    },
    {
      "cell_type": "markdown",
      "metadata": {
        "id": "4DebTMWZ5S1v"
      },
      "source": [
        "\n",
        "\n",
        "```\n",
        "and -> kondisi menjadi benar apabila semua statementnya benar\n",
        "or  -> kondisi menjadi benar apabila salah satu statementnya ada yang benar\n",
        "not -> membalik hasil dari benar ke salah dan salah ke benar\n",
        "```\n",
        "\n"
      ]
    },
    {
      "cell_type": "code",
      "metadata": {
        "id": "oCKKZjLM5mR2"
      },
      "source": [
        "# Contoh penggunaan operator logika\n",
        "\n",
        "print(True and False)\n",
        "print(False or False)\n",
        "print(not False and True)"
      ],
      "execution_count": null,
      "outputs": []
    },
    {
      "cell_type": "markdown",
      "metadata": {
        "id": "sxZ04yEJ6E0s"
      },
      "source": [
        "LATIHAN OPERATOR 4"
      ]
    },
    {
      "cell_type": "code",
      "metadata": {
        "colab": {
          "base_uri": "https://localhost:8080/"
        },
        "id": "4hFSfj6d6Nma",
        "outputId": "08e574c6-0323-4c09-8f3e-529be2dd5ced"
      },
      "source": [
        "print(False and False)\n",
        "print(False or True)\n",
        "print(not True and False)"
      ],
      "execution_count": null,
      "outputs": [
        {
          "output_type": "stream",
          "name": "stdout",
          "text": [
            "False\n",
            "True\n",
            "False\n"
          ]
        }
      ]
    },
    {
      "cell_type": "markdown",
      "metadata": {
        "id": "8G2PmLQw5xtt"
      },
      "source": [
        "# Operator Keanggotaan"
      ]
    },
    {
      "cell_type": "markdown",
      "metadata": {
        "id": "VqmK5VwJnkYp"
      },
      "source": [
        "Operator keanggotaan digunakan untuk mwnguji apakah urutan disajikan dalam suatu objek \n",
        "\n",
        "macam-macam operator keanggotaan :"
      ]
    },
    {
      "cell_type": "markdown",
      "metadata": {
        "id": "sjuCCabRnyHM"
      },
      "source": [
        "\n",
        "\n",
        "```\n",
        "in     -> return True ketika nilai tertentu dalam sebuah urutan ada\n",
        "not in -> return True ketika nilai tertentu dalam sebuah urutan tidak ada\n",
        "```"
      ]
    },
    {
      "cell_type": "code",
      "metadata": {
        "id": "h2-zMBVXoH01",
        "colab": {
          "base_uri": "https://localhost:8080/"
        },
        "outputId": "74bbd661-514e-4254-dd59-929f95ce4bcf"
      },
      "source": [
        "# Contoh penggunaan operator keanggotaan\n",
        "a=(1,2,3,4,5,6)\n",
        "b=2\n",
        "\n",
        "print(b in a)\n",
        "\n",
        "print('-'*20)\n",
        "a=(1,2,3,4,5,6)\n",
        "b=7\n",
        "print(b not in a)"
      ],
      "execution_count": null,
      "outputs": [
        {
          "output_type": "stream",
          "name": "stdout",
          "text": [
            "True\n",
            "--------------------\n",
            "True\n"
          ]
        }
      ]
    },
    {
      "cell_type": "markdown",
      "metadata": {
        "id": "uCF_8GU06ejy"
      },
      "source": [
        "LATIHAN OPERATOR 5"
      ]
    },
    {
      "cell_type": "code",
      "metadata": {
        "colab": {
          "base_uri": "https://localhost:8080/"
        },
        "id": "8nAoen2h6hAd",
        "outputId": "1e0d1932-7bb1-4b8f-e326-5feb57246ac2"
      },
      "source": [
        "a=(7,8,9,10,11)\n",
        "b=8\n",
        "\n",
        "print(b in a)\n",
        "\n",
        "print('-'*20)\n",
        "a=(7,8,9,10,11)\n",
        "b=11\n",
        "print(b not in a)"
      ],
      "execution_count": null,
      "outputs": [
        {
          "output_type": "stream",
          "name": "stdout",
          "text": [
            "True\n",
            "--------------------\n",
            "False\n"
          ]
        }
      ]
    }
  ]
}