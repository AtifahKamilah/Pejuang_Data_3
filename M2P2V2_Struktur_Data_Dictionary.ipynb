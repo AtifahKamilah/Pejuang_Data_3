{
  "nbformat": 4,
  "nbformat_minor": 0,
  "metadata": {
    "colab": {
      "name": "M2P2V2_Struktur_Data_Dictionary.ipynb",
      "provenance": [],
      "collapsed_sections": [],
      "authorship_tag": "ABX9TyPedgNp14O2VSR7F4KoRG+k",
      "include_colab_link": true
    },
    "kernelspec": {
      "name": "python3",
      "display_name": "Python 3"
    },
    "language_info": {
      "name": "python"
    }
  },
  "cells": [
    {
      "cell_type": "markdown",
      "metadata": {
        "id": "view-in-github",
        "colab_type": "text"
      },
      "source": [
        "<a href=\"https://colab.research.google.com/github/AtifahKamilah/Pejuang_Data_3/blob/main/M2P2V2_Struktur_Data_Dictionary.ipynb\" target=\"_parent\"><img src=\"https://colab.research.google.com/assets/colab-badge.svg\" alt=\"Open In Colab\"/></a>"
      ]
    },
    {
      "cell_type": "markdown",
      "metadata": {
        "id": "pKwGAPgybqt3"
      },
      "source": [
        "# Dictionary\n",
        "\n",
        "Dictionary pada Python adalah kumpulan pasangan kunci-nilai (pair of key-value) yang bersifat tidak berurutan. Dictionary dapat digunakan untuk menyimpan data kecil hingga besar. Untuk mengakses datanya, kita harus mengetahui kuncinya (key). Pada Python, dictionary didefinisikan dengan kurawal dan tambahan definisi berikut :\n",
        "\n",
        "\n",
        "*   Setiap elemen pair key-value dipisahkan dengan koma (,).\n",
        "*   Key dan value dipisahkan dengan titik dua (:).\n",
        "*   Key dan Value dapat berupa tipe variabel/obyek apapun.\n",
        "\n"
      ]
    },
    {
      "cell_type": "code",
      "metadata": {
        "colab": {
          "base_uri": "https://localhost:8080/"
        },
        "id": "QzUK4Ro1a4Qg",
        "outputId": "e3051f29-e38d-49b7-fffc-3f73d9d5cbe2"
      },
      "source": [
        "L1 = [1, 'dua', (2+3j), (2+3j)]\n",
        "L1"
      ],
      "execution_count": 5,
      "outputs": [
        {
          "output_type": "execute_result",
          "data": {
            "text/plain": [
              "[1, 'dua', (2+3j), (2+3j)]"
            ]
          },
          "metadata": {},
          "execution_count": 5
        }
      ]
    },
    {
      "cell_type": "code",
      "metadata": {
        "colab": {
          "base_uri": "https://localhost:8080/"
        },
        "id": "jA_6hypjeTqY",
        "outputId": "6dd971d8-f1b3-473a-9b81-4750703bb91c"
      },
      "source": [
        "#Contoh Dictionary\n",
        "D1 = {1:'value','key':2}\n",
        "\n",
        "print(D1)"
      ],
      "execution_count": 6,
      "outputs": [
        {
          "output_type": "stream",
          "name": "stdout",
          "text": [
            "{1: 'value', 'key': 2}\n"
          ]
        }
      ]
    },
    {
      "cell_type": "markdown",
      "metadata": {
        "id": "XIXBOYIOefBJ"
      },
      "source": [
        "# LATIHAN  1"
      ]
    },
    {
      "cell_type": "code",
      "metadata": {
        "colab": {
          "base_uri": "https://localhost:8080/"
        },
        "id": "is6BPXbkeg2q",
        "outputId": "f4c4896d-afa6-4a53-e006-b687aa9df9c0"
      },
      "source": [
        "# Buatlah Struktur data dictionary kalian sendiri\n",
        "Dictionaryku = {8:'cahaya','bulan':9}\n",
        "\n",
        "print(Dictionaryku)"
      ],
      "execution_count": 7,
      "outputs": [
        {
          "output_type": "stream",
          "name": "stdout",
          "text": [
            "{8: 'cahaya', 'bulan': 9}\n"
          ]
        }
      ]
    },
    {
      "cell_type": "code",
      "metadata": {
        "colab": {
          "base_uri": "https://localhost:8080/"
        },
        "id": "O6vPCJtBxn6G",
        "outputId": "0702608f-3826-454a-e089-c0013bddf057"
      },
      "source": [
        "L1[0]"
      ],
      "execution_count": 13,
      "outputs": [
        {
          "output_type": "execute_result",
          "data": {
            "text/plain": [
              "1"
            ]
          },
          "metadata": {},
          "execution_count": 13
        }
      ]
    },
    {
      "cell_type": "code",
      "metadata": {
        "colab": {
          "base_uri": "https://localhost:8080/"
        },
        "id": "Y3Hk24rixwoq",
        "outputId": "b2a21003-aeab-4e02-caa7-30a20f60e923"
      },
      "source": [
        "D1['key']"
      ],
      "execution_count": 16,
      "outputs": [
        {
          "output_type": "execute_result",
          "data": {
            "text/plain": [
              "2"
            ]
          },
          "metadata": {},
          "execution_count": 16
        }
      ]
    },
    {
      "cell_type": "code",
      "metadata": {
        "colab": {
          "base_uri": "https://localhost:8080/"
        },
        "id": "bzQP1dCQx2ZK",
        "outputId": "ae97ecf5-d2d4-41d0-b68b-dd84e202b4e8"
      },
      "source": [
        "#Memanggil elemen berdasarkan key\n",
        "print(\"D1['key'] = \", D1['key']);"
      ],
      "execution_count": 17,
      "outputs": [
        {
          "output_type": "stream",
          "name": "stdout",
          "text": [
            "D1['key'] =  2\n"
          ]
        }
      ]
    },
    {
      "cell_type": "markdown",
      "metadata": {
        "id": "PIXJ_IqXyNov"
      },
      "source": [
        "Dictionary bukan termasuk dalam implementasi urutan (sequences), sehingga tidak bisa dipanggil dengan urutan indeks. Misalnya dalam contoh berikut dicoba dengan indeks 2, tetapi menghasilkan error (KeyError) karena tidak ada kunci (key) 2:"
      ]
    },
    {
      "cell_type": "code",
      "metadata": {
        "colab": {
          "base_uri": "https://localhost:8080/",
          "height": 183
        },
        "id": "JVlv2CA4ypB6",
        "outputId": "ce66c913-43d2-42f6-9391-f41147d8b53c"
      },
      "source": [
        "# Nyobain error\n",
        "print(\"Dictionaryku[2] = \", Dictionaryku[2]);"
      ],
      "execution_count": 15,
      "outputs": [
        {
          "output_type": "error",
          "ename": "KeyError",
          "evalue": "ignored",
          "traceback": [
            "\u001b[0;31m---------------------------------------------------------------------------\u001b[0m",
            "\u001b[0;31mKeyError\u001b[0m                                  Traceback (most recent call last)",
            "\u001b[0;32m<ipython-input-15-1e9fd08e12a3>\u001b[0m in \u001b[0;36m<module>\u001b[0;34m()\u001b[0m\n\u001b[1;32m      1\u001b[0m \u001b[0;31m# Nyobain error\u001b[0m\u001b[0;34m\u001b[0m\u001b[0;34m\u001b[0m\u001b[0;34m\u001b[0m\u001b[0m\n\u001b[0;32m----> 2\u001b[0;31m \u001b[0mprint\u001b[0m\u001b[0;34m(\u001b[0m\u001b[0;34m\"Dictionaryku[2] = \"\u001b[0m\u001b[0;34m,\u001b[0m \u001b[0mDictionaryku\u001b[0m\u001b[0;34m[\u001b[0m\u001b[0;36m2\u001b[0m\u001b[0;34m]\u001b[0m\u001b[0;34m)\u001b[0m\u001b[0;34m;\u001b[0m\u001b[0;34m\u001b[0m\u001b[0;34m\u001b[0m\u001b[0m\n\u001b[0m",
            "\u001b[0;31mKeyError\u001b[0m: 2"
          ]
        }
      ]
    },
    {
      "cell_type": "markdown",
      "metadata": {
        "id": "u7KUqqo_4h6A"
      },
      "source": [
        "# LATIHAN 2"
      ]
    },
    {
      "cell_type": "code",
      "metadata": {
        "colab": {
          "base_uri": "https://localhost:8080/"
        },
        "id": "LQtiu32m4kc9",
        "outputId": "ac83340c-2e66-4ea5-edce-32e7c4b6c714"
      },
      "source": [
        "# Panggil salah satu key dan value pada dictionary yang kalian buat\n",
        "\n",
        "Dictionaryku['bulan']"
      ],
      "execution_count": 18,
      "outputs": [
        {
          "output_type": "execute_result",
          "data": {
            "text/plain": [
              "9"
            ]
          },
          "metadata": {},
          "execution_count": 18
        }
      ]
    },
    {
      "cell_type": "code",
      "metadata": {
        "colab": {
          "base_uri": "https://localhost:8080/"
        },
        "id": "j-VUFshx5Dru",
        "outputId": "0eefe8d7-3453-42c3-9c5f-8fc357a214c9"
      },
      "source": [
        "#Memanggil elemen berdasarkan key\n",
        "print(\"Dictionaryku['bulan'] = \", Dictionaryku['bulan']);"
      ],
      "execution_count": 19,
      "outputs": [
        {
          "output_type": "stream",
          "name": "stdout",
          "text": [
            "Dictionaryku['bulan'] =  9\n"
          ]
        }
      ]
    }
  ]
}