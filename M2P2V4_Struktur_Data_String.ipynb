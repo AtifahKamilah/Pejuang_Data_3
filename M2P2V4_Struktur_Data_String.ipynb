{
  "nbformat": 4,
  "nbformat_minor": 0,
  "metadata": {
    "colab": {
      "name": "M2P2V4_Struktur_Data_String.ipynb",
      "provenance": [],
      "collapsed_sections": [],
      "authorship_tag": "ABX9TyOowwckXSjGr2oVJIVJkLU1",
      "include_colab_link": true
    },
    "kernelspec": {
      "name": "python3",
      "display_name": "Python 3"
    },
    "language_info": {
      "name": "python"
    }
  },
  "cells": [
    {
      "cell_type": "markdown",
      "metadata": {
        "id": "view-in-github",
        "colab_type": "text"
      },
      "source": [
        "<a href=\"https://colab.research.google.com/github/AtifahKamilah/Pejuang_Data_3/blob/main/M2P2V4_Struktur_Data_String.ipynb\" target=\"_parent\"><img src=\"https://colab.research.google.com/assets/colab-badge.svg\" alt=\"Open In Colab\"/></a>"
      ]
    },
    {
      "cell_type": "markdown",
      "metadata": {
        "id": "dAcAzvaKFTBq"
      },
      "source": [
        "# String\n",
        "\n",
        "String di deklarasikan dengan di apit oleh atanda petik."
      ]
    },
    {
      "cell_type": "code",
      "metadata": {
        "colab": {
          "base_uri": "https://localhost:8080/"
        },
        "id": "Ldsi_jkiFJHX",
        "outputId": "3a29b4db-8361-456d-9a5e-c5834de16f1f"
      },
      "source": [
        "#Menampilkan string dengan fungsi print()\n",
        "print(\"Hello World!\")"
      ],
      "execution_count": 1,
      "outputs": [
        {
          "output_type": "stream",
          "name": "stdout",
          "text": [
            "Hello World!\n"
          ]
        }
      ]
    },
    {
      "cell_type": "code",
      "metadata": {
        "colab": {
          "base_uri": "https://localhost:8080/"
        },
        "id": "AxgsjaFlFnbI",
        "outputId": "7a640078-bbc9-408e-fe57-43867243b706"
      },
      "source": [
        "#Membuat Variabel bertipe string\n",
        "A = \"Belajar Struktur Data String\"\n",
        "print(A)"
      ],
      "execution_count": 2,
      "outputs": [
        {
          "output_type": "stream",
          "name": "stdout",
          "text": [
            "Belajar Struktur Data String\n"
          ]
        }
      ]
    },
    {
      "cell_type": "code",
      "metadata": {
        "colab": {
          "base_uri": "https://localhost:8080/"
        },
        "id": "M1k6b2ULFvDI",
        "outputId": "05144860-637b-42d6-d582-a4ccf70adaa4"
      },
      "source": [
        "#Membuat Variabel string multi-line dengan 3 tanda petik\n",
        "B = \"\"\"Belajar Python\n",
        "Pejuang data 3.0\n",
        "PSDS\n",
        "String\"\"\"\n",
        "print(B)"
      ],
      "execution_count": 3,
      "outputs": [
        {
          "output_type": "stream",
          "name": "stdout",
          "text": [
            "Belajar Python\n",
            "Pejuang data 3.0\n",
            "PSDS\n",
            "String\n"
          ]
        }
      ]
    },
    {
      "cell_type": "code",
      "metadata": {
        "colab": {
          "base_uri": "https://localhost:8080/"
        },
        "id": "wpxsn7JMF8vb",
        "outputId": "f8ca70ad-d054-41ae-f1fc-89acf15f047c"
      },
      "source": [
        "#Menampilkan karakter tertentu dalam string\n",
        "print(A[2])"
      ],
      "execution_count": 4,
      "outputs": [
        {
          "output_type": "stream",
          "name": "stdout",
          "text": [
            "l\n"
          ]
        }
      ]
    },
    {
      "cell_type": "code",
      "metadata": {
        "colab": {
          "base_uri": "https://localhost:8080/"
        },
        "id": "zwNlS_yyGEMR",
        "outputId": "3896bf89-f486-4471-b988-4fb2f9a4873a"
      },
      "source": [
        "#Slicing pada String\n",
        "A = \"Belajar Struktur Data String\"\n",
        "print(A[:5])\n",
        "print(A[3:])\n",
        "print(A[-5:])\n",
        "print(A[4:9])"
      ],
      "execution_count": 5,
      "outputs": [
        {
          "output_type": "stream",
          "name": "stdout",
          "text": [
            "Belaj\n",
            "ajar Struktur Data String\n",
            "tring\n",
            "jar S\n"
          ]
        }
      ]
    },
    {
      "cell_type": "markdown",
      "metadata": {
        "id": "J9vPMyfYGae8"
      },
      "source": [
        "# LATIHAN 1"
      ]
    },
    {
      "cell_type": "code",
      "metadata": {
        "colab": {
          "base_uri": "https://localhost:8080/"
        },
        "id": "x9cObZV_Gclh",
        "outputId": "fb8fffad-4088-4c5b-fec3-6df0e398b332"
      },
      "source": [
        "#Buatlah variabel string lalu lakukan slicing dengan menghilangkan karakter pertama dan erakhir\n",
        "H = \"Selamat malam teman-teman\"\n",
        "print(H)\n",
        "print('-'*20)\n",
        "#Slicing pada string\n",
        "print(H[1:])\n",
        "print(H[:24])"
      ],
      "execution_count": 15,
      "outputs": [
        {
          "output_type": "stream",
          "name": "stdout",
          "text": [
            "Selamat malam teman-teman\n",
            "--------------------\n",
            "elamat malam teman-teman\n",
            "Selamat malam teman-tema\n"
          ]
        }
      ]
    }
  ]
}