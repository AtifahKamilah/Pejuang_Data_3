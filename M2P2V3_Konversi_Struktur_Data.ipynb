{
  "nbformat": 4,
  "nbformat_minor": 0,
  "metadata": {
    "colab": {
      "name": "M2P2V3_Konversi Struktur Data.ipynb",
      "provenance": [],
      "collapsed_sections": [],
      "authorship_tag": "ABX9TyO5VwTph7ozsLknGUF/kSTy",
      "include_colab_link": true
    },
    "kernelspec": {
      "name": "python3",
      "display_name": "Python 3"
    },
    "language_info": {
      "name": "python"
    }
  },
  "cells": [
    {
      "cell_type": "markdown",
      "metadata": {
        "id": "view-in-github",
        "colab_type": "text"
      },
      "source": [
        "<a href=\"https://colab.research.google.com/github/AtifahKamilah/Pejuang_Data_3/blob/main/M2P2V3_Konversi_Struktur_Data.ipynb\" target=\"_parent\"><img src=\"https://colab.research.google.com/assets/colab-badge.svg\" alt=\"Open In Colab\"/></a>"
      ]
    },
    {
      "cell_type": "markdown",
      "metadata": {
        "id": "5ihTkKyS9D_W"
      },
      "source": [
        "# Konversi Struktur Data\n",
        "\n",
        "Fungsi untuk mengubah/konversi struktur data:\n",
        "\n",
        "  a. list()  : untuk mengubah menjadi list\n",
        "  \n",
        "  b. tuple() : untuk mengubah menjadi tuple\n",
        "  \n",
        "  c. set()   : untuk mengubah menjadi set\n",
        "\n",
        "  d. dict()  : untuk mengubah menjadi dictionary"
      ]
    },
    {
      "cell_type": "markdown",
      "metadata": {
        "id": "i6NxvSgd90_l"
      },
      "source": [
        "# Mengkonversi tipe data list :"
      ]
    },
    {
      "cell_type": "code",
      "metadata": {
        "id": "waT4Qijs80yh"
      },
      "source": [
        "#Membuat 2 list\n",
        "L1 = [1,2,3,4]\n",
        "L2 = [5,6,7,8]"
      ],
      "execution_count": 2,
      "outputs": []
    },
    {
      "cell_type": "code",
      "metadata": {
        "colab": {
          "base_uri": "https://localhost:8080/"
        },
        "id": "8Btycge9-Fjk",
        "outputId": "de2d5b69-ef10-44e7-949f-4a9706695afd"
      },
      "source": [
        "#Mengkonversi struktur data list\n",
        "k_tuple = tuple(L1)\n",
        "k_set   = set(L2)\n",
        "k_dict  = dict(zip(L1, L2))\n",
        "#Melihat data yang telah dikonversi\n",
        "print(k_tuple)\n",
        "print(k_set)\n",
        "print(k_dict)"
      ],
      "execution_count": 3,
      "outputs": [
        {
          "output_type": "stream",
          "name": "stdout",
          "text": [
            "(1, 2, 3, 4)\n",
            "{8, 5, 6, 7}\n",
            "{1: 5, 2: 6, 3: 7, 4: 8}\n"
          ]
        }
      ]
    },
    {
      "cell_type": "markdown",
      "metadata": {
        "id": "GSwoFEIu-oC8"
      },
      "source": [
        "# Mengkonversi tipe data tuple"
      ]
    },
    {
      "cell_type": "code",
      "metadata": {
        "id": "rGuj7Vpt-tpe"
      },
      "source": [
        "#Membuat dua tuple\n",
        "T1 = (1,2,3,4)\n",
        "T2 = (5,6,7,8)"
      ],
      "execution_count": 4,
      "outputs": []
    },
    {
      "cell_type": "code",
      "metadata": {
        "colab": {
          "base_uri": "https://localhost:8080/"
        },
        "id": "IFXffrYL-1xH",
        "outputId": "21f21bc6-4121-4ef9-f27e-97ee63198ce3"
      },
      "source": [
        "#Mengkonversi struktur data tuple\n",
        "k_list = tuple(T1)\n",
        "k_set   = set(T2)\n",
        "k_dic  = dict(zip(T1, T2))\n",
        "#Melihat data yang telah dikonversi\n",
        "print(k_list)\n",
        "print(k_set)\n",
        "print(k_dic)"
      ],
      "execution_count": 5,
      "outputs": [
        {
          "output_type": "stream",
          "name": "stdout",
          "text": [
            "(1, 2, 3, 4)\n",
            "{8, 5, 6, 7}\n",
            "{1: 5, 2: 6, 3: 7, 4: 8}\n"
          ]
        }
      ]
    },
    {
      "cell_type": "markdown",
      "metadata": {
        "id": "WXwYTKMW_EJL"
      },
      "source": [
        "# Mengkonversi tipe data set"
      ]
    },
    {
      "cell_type": "code",
      "metadata": {
        "id": "ifg1xdBk_G7H"
      },
      "source": [
        "#Membuat dua set\n",
        "S1 = {1,2,3,4}\n",
        "S2 = {5,6,7,8}"
      ],
      "execution_count": 9,
      "outputs": []
    },
    {
      "cell_type": "code",
      "metadata": {
        "colab": {
          "base_uri": "https://localhost:8080/"
        },
        "id": "b1GxqR45_POv",
        "outputId": "07d5d90c-1f0c-4abf-a725-bb4d79d9ee2e"
      },
      "source": [
        "#Mengkonversi struktur data set\n",
        "k_list  = list(S1)\n",
        "k_tuple = tuple(S2)\n",
        "k_dict  = dict(zip(S1,S2))\n",
        "#Melihat data yang telah dikonversi\n",
        "print(k_list)\n",
        "print(k_tuple)\n",
        "print(k_dict)"
      ],
      "execution_count": 11,
      "outputs": [
        {
          "output_type": "stream",
          "name": "stdout",
          "text": [
            "[1, 2, 3, 4]\n",
            "(8, 5, 6, 7)\n",
            "{1: 8, 2: 5, 3: 6, 4: 7}\n"
          ]
        }
      ]
    },
    {
      "cell_type": "markdown",
      "metadata": {
        "id": "602Php7y_y8x"
      },
      "source": [
        "# Mengkonversi tipe data dictionary:"
      ]
    },
    {
      "cell_type": "code",
      "metadata": {
        "id": "m4TdOng2_3op"
      },
      "source": [
        "#Membuat dictionary\n",
        "D = {\n",
        "    \"nama\": \"Andi\",\n",
        "     \"alamat\": \"Yogyakarta\",\n",
        "     \"umur\": 20\n",
        "}"
      ],
      "execution_count": 12,
      "outputs": []
    },
    {
      "cell_type": "code",
      "metadata": {
        "colab": {
          "base_uri": "https://localhost:8080/"
        },
        "id": "EApKz4hwAGox",
        "outputId": "33356df9-2974-4a26-8e6d-c4e7d8859e9f"
      },
      "source": [
        "#Mengkonversi struktur data dictionary dari key dan value-nya\n",
        "k_list = list(D.keys())\n",
        "k_tuple = tuple(D.values())\n",
        "k_set = set(D.keys())\n",
        "#Melihat data yang telah dikonversi\n",
        "print(k_list)\n",
        "print(k_tuple)\n",
        "print(k_set)"
      ],
      "execution_count": 13,
      "outputs": [
        {
          "output_type": "stream",
          "name": "stdout",
          "text": [
            "['nama', 'alamat', 'umur']\n",
            "('Andi', 'Yogyakarta', 20)\n",
            "{'nama', 'alamat', 'umur'}\n"
          ]
        }
      ]
    },
    {
      "cell_type": "markdown",
      "metadata": {
        "id": "ZIyN4xbpArMx"
      },
      "source": [
        "# LATIHAN"
      ]
    },
    {
      "cell_type": "code",
      "metadata": {
        "colab": {
          "base_uri": "https://localhost:8080/"
        },
        "id": "TRa55Sg7AtDO",
        "outputId": "86b4d110-5453-439b-b34b-cda06f732b2f"
      },
      "source": [
        "#Lakukan Konversi struktur data yang kalian buat pada notebook notebook\n",
        "#sebelumnya menjadi list, tuple, set, dan dictionary (masing-masing satu)\n",
        "\n",
        "#1. Data list\n",
        "Mylist1 = [4,8,10,20]\n",
        "Mylist2 = [\"m\",\"moon\",8]\n",
        "\n",
        "#Mengkonversi struktur data list\n",
        "k_tuple = tuple(Mylist1)\n",
        "k_set   = set(Mylist2)\n",
        "k_dict  = dict(zip(Mylist1, Mylist2))\n",
        "#Melihat data yang telah dikonversi\n",
        "print(k_tuple)\n",
        "print(k_set)\n",
        "print(k_dict)"
      ],
      "execution_count": 14,
      "outputs": [
        {
          "output_type": "stream",
          "name": "stdout",
          "text": [
            "(4, 8, 10, 20)\n",
            "{8, 'moon', 'm'}\n",
            "{4: 'm', 8: 'moon', 10: 8}\n"
          ]
        }
      ]
    },
    {
      "cell_type": "code",
      "metadata": {
        "colab": {
          "base_uri": "https://localhost:8080/"
        },
        "id": "N9yU53OUCKd4",
        "outputId": "e4d49215-fd7e-4fd9-f586-d76a5055f3b3"
      },
      "source": [
        "#2. Data Tuple\n",
        "Tup1 = (\"cahaya\", \"bulan\", 8, True)\n",
        "Tup2 = (4, 8.5, True, 8.5)\n",
        "\n",
        "#Mengkonversi struktur data tuple\n",
        "k_list = tuple(Tup1)\n",
        "k_set   = set(Tup2)\n",
        "k_dic  = dict(zip(Tup1, Tup2))\n",
        "#Melihat data yang telah dikonversi\n",
        "print(k_list)\n",
        "print(k_set)\n",
        "print(k_dic)"
      ],
      "execution_count": 15,
      "outputs": [
        {
          "output_type": "stream",
          "name": "stdout",
          "text": [
            "('cahaya', 'bulan', 8, True)\n",
            "{8.5, True, 4}\n",
            "{'cahaya': 4, 'bulan': 8.5, 8: True, True: 8.5}\n"
          ]
        }
      ]
    },
    {
      "cell_type": "code",
      "metadata": {
        "colab": {
          "base_uri": "https://localhost:8080/"
        },
        "id": "IWnt1-sNC3YG",
        "outputId": "a4a824ae-35ed-48fa-db35-11791f711833"
      },
      "source": [
        "#3. Data Set\n",
        "Set1 = {8, \"sembilan\", True, 8+5j}\n",
        "Set2 = {10, \"lima\", True, 2+3j}\n",
        "\n",
        "#Mengkonversi struktur data set\n",
        "k_list  = list(Set1)\n",
        "k_tuple = tuple(Set2)\n",
        "k_dict  = dict(zip(Set1,Set2))\n",
        "#Melihat data yang telah dikonversi\n",
        "print(k_list)\n",
        "print(k_tuple)\n",
        "print(k_dict)"
      ],
      "execution_count": 17,
      "outputs": [
        {
          "output_type": "stream",
          "name": "stdout",
          "text": [
            "[8, True, (8+5j), 'sembilan']\n",
            "(True, 10, (2+3j), 'lima')\n",
            "{8: True, True: 10, (8+5j): (2+3j), 'sembilan': 'lima'}\n"
          ]
        }
      ]
    },
    {
      "cell_type": "code",
      "metadata": {
        "colab": {
          "base_uri": "https://localhost:8080/"
        },
        "id": "ZsaAqgRzDaCK",
        "outputId": "17cf4406-6ead-46dc-c343-8690ca150f2e"
      },
      "source": [
        "#4. Data Dictionary\n",
        "Dict = {\n",
        "    \"nama\": \"Atifah\",\n",
        "   \"alamat\": \"Balikpapan\",\n",
        "   \"umur\": 19\n",
        "}\n",
        "\n",
        "#Mengkonversi struktur data dictionary dari key dan value-nya\n",
        "k_list = list(Dict.keys())\n",
        "k_tuple = tuple(Dict.values())\n",
        "k_set = set(Dict.keys())\n",
        "#Melihat data yang telah dikonversi\n",
        "print(k_list)\n",
        "print(k_tuple)\n",
        "print(k_set)"
      ],
      "execution_count": 19,
      "outputs": [
        {
          "output_type": "stream",
          "name": "stdout",
          "text": [
            "['nama', 'alamat', 'umur']\n",
            "('Atifah', 'Balikpapan', 19)\n",
            "{'nama', 'alamat', 'umur'}\n"
          ]
        }
      ]
    }
  ]
}