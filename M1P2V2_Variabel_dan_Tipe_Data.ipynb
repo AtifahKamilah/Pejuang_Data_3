{
  "nbformat": 4,
  "nbformat_minor": 0,
  "metadata": {
    "colab": {
      "name": "M1P2V2_Variabel_dan_Tipe_Data.ipynb",
      "provenance": [],
      "collapsed_sections": [],
      "authorship_tag": "ABX9TyN+LkLvTn6s2ysvcwN/bKcK",
      "include_colab_link": true
    },
    "kernelspec": {
      "name": "python3",
      "display_name": "Python 3"
    },
    "language_info": {
      "name": "python"
    }
  },
  "cells": [
    {
      "cell_type": "markdown",
      "metadata": {
        "id": "view-in-github",
        "colab_type": "text"
      },
      "source": [
        "<a href=\"https://colab.research.google.com/github/AtifahKamilah/Pejuang_Data_3/blob/main/M1P2V2_Variabel_dan_Tipe_Data.ipynb\" target=\"_parent\"><img src=\"https://colab.research.google.com/assets/colab-badge.svg\" alt=\"Open In Colab\"/></a>"
      ]
    },
    {
      "cell_type": "markdown",
      "metadata": {
        "id": "bCjuW1kn7PfX"
      },
      "source": [
        "# Variabel & Tipe Data"
      ]
    },
    {
      "cell_type": "markdown",
      "metadata": {
        "id": "_Q31thMb7UMY"
      },
      "source": [
        "# Variabel\n",
        "\n",
        "Variables : Lokasi penyimpanan yang dapat digunakan untuk menampung sebuah data atau informasi.\n",
        "\n",
        "Syarat-syarat penamaan variabel\n",
        "\n",
        " 1. karakter-karakter yang digunakan untuk penamaan variable adalah alphabet, angka dan informasi.\n",
        " 2. karakter pertama variable harus berupa huruf atau garis bawah/underscore, dan tidak bisa berupa angka.\n",
        " 3. nama sebuah variabel tidak bisa menggunakan keyword atau rserved words dari bahasa python seperti for, if dan lainnya.\n",
        " 4. karakter pada nama variabel bersifat sensitif (case-sensitif)"
      ]
    },
    {
      "cell_type": "code",
      "metadata": {
        "colab": {
          "base_uri": "https://localhost:8080/"
        },
        "id": "x2b2Asw87DJ8",
        "outputId": "13910977-4f61-455e-fa32-9557a457edb1"
      },
      "source": [
        "#Membuat variabel\n",
        "kalimat   = 'ini adalah variabel'\n",
        "bilangan1 = 4\n",
        "bilangan2 = 2.5\n",
        "bilangan3 = True\n",
        "bilangan4 = 1j + 4\n",
        "\n",
        "#menampilkan variabel\n",
        "print(kalimat)\n",
        "print(bilangan1)\n",
        "print(bilangan2)\n",
        "print(bilangan3)\n",
        "print(bilangan4)"
      ],
      "execution_count": null,
      "outputs": [
        {
          "output_type": "stream",
          "name": "stdout",
          "text": [
            "ini adalah variabel\n",
            "4\n",
            "2.5\n",
            "True\n",
            "(4+1j)\n"
          ]
        }
      ]
    },
    {
      "cell_type": "markdown",
      "metadata": {
        "id": "peSEsQtT8yrH"
      },
      "source": [
        "LATIHAN 1"
      ]
    },
    {
      "cell_type": "code",
      "metadata": {
        "id": "F2b3DEie80eW",
        "colab": {
          "base_uri": "https://localhost:8080/"
        },
        "outputId": "08608c12-f8e8-41fb-bca8-21d994e559d3"
      },
      "source": [
        "#Membuat variabel\n",
        "kalimatku  = 'ini adalah variabelku'\n",
        "bilanganku1 = 8\n",
        "bilanganku2 = 4.7\n",
        "bilanganku3 = False\n",
        "bilanganku4 = 2j + 8\n",
        "\n",
        "#menampilkan variabel\n",
        "print(kalimatku)\n",
        "print(bilanganku1)\n",
        "print(bilanganku2)\n",
        "print(bilanganku3)\n",
        "print(bilanganku4)"
      ],
      "execution_count": null,
      "outputs": [
        {
          "output_type": "stream",
          "name": "stdout",
          "text": [
            "ini adalah variabelku\n",
            "8\n",
            "4.7\n",
            "False\n",
            "(8+2j)\n"
          ]
        }
      ]
    },
    {
      "cell_type": "markdown",
      "metadata": {
        "id": "9FA-JAa3swMD"
      },
      "source": [
        "# Tipe Data\n",
        "\n",
        "5 tipe data yaitu :\n",
        "\n",
        " 1. integer atau bilangan bulat\n",
        " 2. float atau bilangan desimal\n",
        " 3. string atau kalimat\n",
        " 4. boolean yang terdiri dari True and False\n",
        " 5. complex yang merupakan bilangan complex\n",
        " "
      ]
    },
    {
      "cell_type": "code",
      "metadata": {
        "colab": {
          "base_uri": "https://localhost:8080/"
        },
        "id": "OrR1RVoFtgb1",
        "outputId": "84809160-4a47-458c-c331-d34022b7baf9"
      },
      "source": [
        "# menampilkan tipe data\n",
        "print(type(kalimat))\n",
        "print(type(bilangan1))\n",
        "print(type(bilangan2))\n",
        "print(type(bilangan3))\n",
        "print(type(bilangan4))"
      ],
      "execution_count": null,
      "outputs": [
        {
          "output_type": "stream",
          "name": "stdout",
          "text": [
            "<class 'str'>\n",
            "<class 'int'>\n",
            "<class 'float'>\n",
            "<class 'bool'>\n",
            "<class 'complex'>\n"
          ]
        }
      ]
    },
    {
      "cell_type": "markdown",
      "metadata": {
        "id": "STy_13DXur26"
      },
      "source": [
        "LATIHAN 2"
      ]
    },
    {
      "cell_type": "code",
      "metadata": {
        "colab": {
          "base_uri": "https://localhost:8080/"
        },
        "id": "lg-fExBwuv4g",
        "outputId": "9ad6bbc8-efd1-4277-8517-427c83e7e8ff"
      },
      "source": [
        "# menampilkan tipe data\n",
        "print(type(kalimatku))\n",
        "print(type(bilanganku1))\n",
        "print(type(bilanganku2))\n",
        "print(type(bilanganku3))\n",
        "print(type(bilanganku4))"
      ],
      "execution_count": null,
      "outputs": [
        {
          "output_type": "stream",
          "name": "stdout",
          "text": [
            "<class 'str'>\n",
            "<class 'int'>\n",
            "<class 'float'>\n",
            "<class 'bool'>\n",
            "<class 'complex'>\n"
          ]
        }
      ]
    },
    {
      "cell_type": "markdown",
      "metadata": {
        "id": "EnuZw8hSuyqu"
      },
      "source": [
        "# Konversi Tipe Data\n",
        "\n",
        "Syntax Konversi type data :\n",
        "\n",
        "  1. integer = int()\n",
        "  2. float   = float()\n",
        "  3. string  = str()\n",
        "  4. boolean = bool()\n",
        "  5. complex = complex()"
      ]
    },
    {
      "cell_type": "code",
      "metadata": {
        "colab": {
          "base_uri": "https://localhost:8080/"
        },
        "id": "g-M-KV13vXW1",
        "outputId": "eb3874a2-9be8-4f7e-cf72-f9cb04175b46"
      },
      "source": [
        "# konversi tipe data integer\n",
        "print(int(bilangan2))\n",
        "print(int(bilangan3))"
      ],
      "execution_count": null,
      "outputs": [
        {
          "output_type": "stream",
          "name": "stdout",
          "text": [
            "2\n",
            "1\n"
          ]
        }
      ]
    },
    {
      "cell_type": "code",
      "metadata": {
        "colab": {
          "base_uri": "https://localhost:8080/"
        },
        "id": "YBqr0FKcv4Wo",
        "outputId": "9529ec61-ba43-4637-9a4b-d015910e3742"
      },
      "source": [
        "# konversi tipe data float\n",
        "print(float(bilangan1))\n",
        "print(float(bilangan3))"
      ],
      "execution_count": null,
      "outputs": [
        {
          "output_type": "stream",
          "name": "stdout",
          "text": [
            "4.0\n",
            "1.0\n"
          ]
        }
      ]
    },
    {
      "cell_type": "code",
      "metadata": {
        "colab": {
          "base_uri": "https://localhost:8080/"
        },
        "id": "kfO0VHzVwDQb",
        "outputId": "c31cf507-b6f7-49c9-955f-4bb78843b1be"
      },
      "source": [
        "# konversi tipe data string\n",
        "print(str(bilangan1))\n",
        "print(str(bilangan2))\n",
        "print(str(bilangan3))"
      ],
      "execution_count": null,
      "outputs": [
        {
          "output_type": "stream",
          "name": "stdout",
          "text": [
            "4\n",
            "2.5\n",
            "True\n"
          ]
        }
      ]
    },
    {
      "cell_type": "code",
      "metadata": {
        "colab": {
          "base_uri": "https://localhost:8080/"
        },
        "id": "OCjRReoeweKH",
        "outputId": "d4182249-bc60-475d-a51e-14b01f944269"
      },
      "source": [
        "# konversi tipe data bool\n",
        "print(bool(bilangan1))\n",
        "print(bool(bilangan2))"
      ],
      "execution_count": null,
      "outputs": [
        {
          "output_type": "stream",
          "name": "stdout",
          "text": [
            "True\n",
            "True\n"
          ]
        }
      ]
    },
    {
      "cell_type": "code",
      "metadata": {
        "colab": {
          "base_uri": "https://localhost:8080/"
        },
        "id": "q0d8Oquew0i4",
        "outputId": "33338a6e-7139-4261-da5d-ebae0675d9f8"
      },
      "source": [
        "# konversi tipe data complex\n",
        "print(complex(bilangan1))\n",
        "print(complex(bilangan2))\n",
        "print(complex(bilangan3))"
      ],
      "execution_count": null,
      "outputs": [
        {
          "output_type": "stream",
          "name": "stdout",
          "text": [
            "(4+0j)\n",
            "(2.5+0j)\n",
            "(1+0j)\n"
          ]
        }
      ]
    },
    {
      "cell_type": "markdown",
      "metadata": {
        "id": "ItCWxjcsxEDj"
      },
      "source": [
        "LATIHAN 3"
      ]
    },
    {
      "cell_type": "code",
      "metadata": {
        "colab": {
          "base_uri": "https://localhost:8080/"
        },
        "id": "dW_STvuDxG2T",
        "outputId": "30bc4023-e284-410c-ba79-5f9a2e2245f6"
      },
      "source": [
        "# konversi tipe data integer\n",
        "print(int(bilanganku2))\n",
        "print(int(bilanganku3))\n",
        "print('-'*20)\n",
        "\n",
        "# konversi tipe data float\n",
        "print(float(bilanganku1))\n",
        "print(float(bilanganku3))\n",
        "print('-'*20)\n",
        "\n",
        "# konversi tipe data string\n",
        "print(str(bilanganku1))\n",
        "print(str(bilanganku2))\n",
        "print(str(bilanganku3))\n",
        "print('-'*20)\n",
        "\n",
        "# konversi tipe data bool\n",
        "print(bool(bilanganku1))\n",
        "print(bool(bilanganku2))\n",
        "print('-'*20)\n",
        "\n",
        "# konversi tipe data complex\n",
        "print(complex(bilanganku1))\n",
        "print(complex(bilanganku2))\n",
        "print(complex(bilanganku3))\n",
        "print('-'*20)"
      ],
      "execution_count": null,
      "outputs": [
        {
          "output_type": "stream",
          "name": "stdout",
          "text": [
            "4\n",
            "0\n",
            "--------------------\n",
            "8.0\n",
            "0.0\n",
            "--------------------\n",
            "8\n",
            "4.7\n",
            "False\n",
            "--------------------\n",
            "True\n",
            "True\n",
            "--------------------\n",
            "(8+0j)\n",
            "(4.7+0j)\n",
            "0j\n",
            "--------------------\n"
          ]
        }
      ]
    }
  ]
}